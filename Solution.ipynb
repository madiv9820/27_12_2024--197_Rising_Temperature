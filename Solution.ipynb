{
 "cells": [
  {
   "cell_type": "code",
   "execution_count": 1,
   "id": "f8144bf6",
   "metadata": {},
   "outputs": [
    {
     "name": "stderr",
     "output_type": "stream",
     "text": [
      "24/12/27 15:56:03 WARN Utils: Your hostname, madiv resolves to a loopback address: 127.0.1.1; using 192.168.1.11 instead (on interface wlo1)\n",
      "24/12/27 15:56:03 WARN Utils: Set SPARK_LOCAL_IP if you need to bind to another address\n",
      "Setting default log level to \"WARN\".\n",
      "To adjust logging level use sc.setLogLevel(newLevel). For SparkR, use setLogLevel(newLevel).\n",
      "24/12/27 15:56:06 WARN NativeCodeLoader: Unable to load native-hadoop library for your platform... using builtin-java classes where applicable\n",
      "24/12/27 15:56:09 WARN Utils: Service 'SparkUI' could not bind on port 4040. Attempting port 4041.\n"
     ]
    }
   ],
   "source": [
    "import pandas as pd\n",
    "import pyspark.sql.dataframe as sp\n",
    "from pyspark.sql import SparkSession\n",
    "from pyspark.sql.functions import col, datediff\n",
    "\n",
    "spark = SparkSession.builder.appName('LeetCode').getOrCreate()"
   ]
  },
  {
   "cell_type": "code",
   "execution_count": 2,
   "id": "021b0350",
   "metadata": {},
   "outputs": [
    {
     "name": "stderr",
     "output_type": "stream",
     "text": [
      "                                                                                \r"
     ]
    },
    {
     "name": "stdout",
     "output_type": "stream",
     "text": [
      "+---+----------+-----------+\n",
      "| id|recordDate|temperature|\n",
      "+---+----------+-----------+\n",
      "|  1|2015-01-01|         10|\n",
      "|  2|2015-01-02|         25|\n",
      "|  3|2015-01-03|         20|\n",
      "|  4|2015-01-04|         30|\n",
      "+---+----------+-----------+\n",
      "\n"
     ]
    },
    {
     "data": {
      "text/html": [
       "<div>\n",
       "<style scoped>\n",
       "    .dataframe tbody tr th:only-of-type {\n",
       "        vertical-align: middle;\n",
       "    }\n",
       "\n",
       "    .dataframe tbody tr th {\n",
       "        vertical-align: top;\n",
       "    }\n",
       "\n",
       "    .dataframe thead th {\n",
       "        text-align: right;\n",
       "    }\n",
       "</style>\n",
       "<table border=\"1\" class=\"dataframe\">\n",
       "  <thead>\n",
       "    <tr style=\"text-align: right;\">\n",
       "      <th></th>\n",
       "      <th>id</th>\n",
       "      <th>recordDate</th>\n",
       "      <th>temperature</th>\n",
       "    </tr>\n",
       "  </thead>\n",
       "  <tbody>\n",
       "    <tr>\n",
       "      <th>0</th>\n",
       "      <td>1</td>\n",
       "      <td>2015-01-01</td>\n",
       "      <td>10</td>\n",
       "    </tr>\n",
       "    <tr>\n",
       "      <th>1</th>\n",
       "      <td>2</td>\n",
       "      <td>2015-01-02</td>\n",
       "      <td>25</td>\n",
       "    </tr>\n",
       "    <tr>\n",
       "      <th>2</th>\n",
       "      <td>3</td>\n",
       "      <td>2015-01-03</td>\n",
       "      <td>20</td>\n",
       "    </tr>\n",
       "    <tr>\n",
       "      <th>3</th>\n",
       "      <td>4</td>\n",
       "      <td>2015-01-04</td>\n",
       "      <td>30</td>\n",
       "    </tr>\n",
       "  </tbody>\n",
       "</table>\n",
       "</div>"
      ],
      "text/plain": [
       "   id  recordDate  temperature\n",
       "0   1  2015-01-01           10\n",
       "1   2  2015-01-02           25\n",
       "2   3  2015-01-03           20\n",
       "3   4  2015-01-04           30"
      ]
     },
     "execution_count": 2,
     "metadata": {},
     "output_type": "execute_result"
    }
   ],
   "source": [
    "spark_Weather = spark.read.option('header', True).option('delimiter', ',').csv('Weather.csv')\n",
    "pandas_Weather = pd.read_csv('Weather.csv')\n",
    "\n",
    "spark_Weather.show()\n",
    "pandas_Weather.head()"
   ]
  },
  {
   "cell_type": "markdown",
   "id": "5cd03862",
   "metadata": {},
   "source": [
    "### SQL"
   ]
  },
  {
   "cell_type": "code",
   "execution_count": 3,
   "id": "3409fcc2",
   "metadata": {},
   "outputs": [
    {
     "name": "stdout",
     "output_type": "stream",
     "text": [
      "+---+\n",
      "| id|\n",
      "+---+\n",
      "|  2|\n",
      "|  4|\n",
      "+---+\n",
      "\n"
     ]
    }
   ],
   "source": [
    "def rising_temperature(weather: sp.DataFrame) -> sp.DataFrame:\n",
    "    weather.createOrReplaceTempView('Weather')\n",
    "    sqlQuery = \\\n",
    "    '''\n",
    "    SELECT w1.id FROM Weather w1 JOIN Weather w2\n",
    "    ON w1.temperature > w2.temperature AND \n",
    "    DATEDIFF(w1.recordDate, w2.recordDate) = 1\n",
    "    '''\n",
    "    \n",
    "    ids_With_Rising_Temperature = spark.sql(sqlQuery = sqlQuery)\n",
    "    return ids_With_Rising_Temperature\n",
    "\n",
    "output = rising_temperature(weather = spark_Weather)\n",
    "output.show()"
   ]
  },
  {
   "cell_type": "markdown",
   "id": "6082b99b",
   "metadata": {},
   "source": [
    "### PySpark"
   ]
  },
  {
   "cell_type": "code",
   "execution_count": 4,
   "id": "6a450888",
   "metadata": {},
   "outputs": [
    {
     "name": "stdout",
     "output_type": "stream",
     "text": [
      "+---+\n",
      "| id|\n",
      "+---+\n",
      "|  2|\n",
      "|  4|\n",
      "+---+\n",
      "\n"
     ]
    }
   ],
   "source": [
    "def rising_temperature(weather: sp.DataFrame) -> sp.DataFrame:\n",
    "    ids_With_Rising_Temp = weather.alias('w1').join(weather.alias('w2'), \n",
    "                                        on = ((col('w1.temperature') > col('w2.temperature')) &\n",
    "                                              (datediff(col('w1.recordDate'), col('w2.recordDate')) == 1)), \n",
    "                                        how = 'inner')\\\n",
    "                                    .select(col('w1.id'))\n",
    "    return ids_With_Rising_Temp\n",
    "\n",
    "output = rising_temperature(weather = spark_Weather)\n",
    "output.show()"
   ]
  },
  {
   "cell_type": "markdown",
   "id": "42466ff1",
   "metadata": {},
   "source": [
    "### Pandas"
   ]
  },
  {
   "cell_type": "code",
   "execution_count": 5,
   "id": "e441c37d",
   "metadata": {},
   "outputs": [
    {
     "name": "stderr",
     "output_type": "stream",
     "text": [
      "/tmp/ipykernel_23942/470766803.py:17: SettingWithCopyWarning: \n",
      "A value is trying to be set on a copy of a slice from a DataFrame\n",
      "\n",
      "See the caveats in the documentation: https://pandas.pydata.org/pandas-docs/stable/user_guide/indexing.html#returning-a-view-versus-a-copy\n",
      "  ids_With_Increasing_Temp.rename(columns = {'id_x':'id'}, inplace = True)\n"
     ]
    },
    {
     "data": {
      "text/html": [
       "<div>\n",
       "<style scoped>\n",
       "    .dataframe tbody tr th:only-of-type {\n",
       "        vertical-align: middle;\n",
       "    }\n",
       "\n",
       "    .dataframe tbody tr th {\n",
       "        vertical-align: top;\n",
       "    }\n",
       "\n",
       "    .dataframe thead th {\n",
       "        text-align: right;\n",
       "    }\n",
       "</style>\n",
       "<table border=\"1\" class=\"dataframe\">\n",
       "  <thead>\n",
       "    <tr style=\"text-align: right;\">\n",
       "      <th></th>\n",
       "      <th>id</th>\n",
       "    </tr>\n",
       "  </thead>\n",
       "  <tbody>\n",
       "    <tr>\n",
       "      <th>4</th>\n",
       "      <td>2</td>\n",
       "    </tr>\n",
       "    <tr>\n",
       "      <th>14</th>\n",
       "      <td>4</td>\n",
       "    </tr>\n",
       "  </tbody>\n",
       "</table>\n",
       "</div>"
      ],
      "text/plain": [
       "    id\n",
       "4    2\n",
       "14   4"
      ]
     },
     "execution_count": 5,
     "metadata": {},
     "output_type": "execute_result"
    }
   ],
   "source": [
    "def rising_temperature(weather: pd.DataFrame) -> pd.DataFrame:\n",
    "    w1 = weather.copy()\n",
    "    w2 = weather.copy()\n",
    "    \n",
    "    data_With_Increasing_Temp = w1.merge(w2, on = ((w1.temperature > w2.temperature)), \n",
    "                                         how = 'inner')\n",
    "    \n",
    "    data_With_Increasing_Temp['DateDiff'] = (pd.to_datetime(data_With_Increasing_Temp.recordDate_x) - \n",
    "                                                pd.to_datetime(data_With_Increasing_Temp.recordDate_y))\n",
    "    \n",
    "    data_With_Increasing_Temp['TempDiff'] = (data_With_Increasing_Temp.temperature_x - \n",
    "                                             data_With_Increasing_Temp.temperature_y)\n",
    "    \n",
    "    ids_With_Increasing_Temp = data_With_Increasing_Temp[(data_With_Increasing_Temp.DateDiff == '1 Days') & \n",
    "                                                         (data_With_Increasing_Temp.TempDiff > 0)]\n",
    "    \n",
    "    ids_With_Increasing_Temp.rename(columns = {'id_x':'id'}, inplace = True)\n",
    "    \n",
    "    return ids_With_Increasing_Temp[['id']]\n",
    "\n",
    "output = rising_temperature(weather = pandas_Weather)\n",
    "output.head(100)"
   ]
  },
  {
   "cell_type": "code",
   "execution_count": 6,
   "id": "98ea3e87",
   "metadata": {},
   "outputs": [
    {
     "data": {
      "text/html": [
       "<div>\n",
       "<style scoped>\n",
       "    .dataframe tbody tr th:only-of-type {\n",
       "        vertical-align: middle;\n",
       "    }\n",
       "\n",
       "    .dataframe tbody tr th {\n",
       "        vertical-align: top;\n",
       "    }\n",
       "\n",
       "    .dataframe thead th {\n",
       "        text-align: right;\n",
       "    }\n",
       "</style>\n",
       "<table border=\"1\" class=\"dataframe\">\n",
       "  <thead>\n",
       "    <tr style=\"text-align: right;\">\n",
       "      <th></th>\n",
       "      <th>id</th>\n",
       "    </tr>\n",
       "  </thead>\n",
       "  <tbody>\n",
       "    <tr>\n",
       "      <th>1</th>\n",
       "      <td>2</td>\n",
       "    </tr>\n",
       "    <tr>\n",
       "      <th>3</th>\n",
       "      <td>4</td>\n",
       "    </tr>\n",
       "  </tbody>\n",
       "</table>\n",
       "</div>"
      ],
      "text/plain": [
       "   id\n",
       "1   2\n",
       "3   4"
      ]
     },
     "execution_count": 6,
     "metadata": {},
     "output_type": "execute_result"
    }
   ],
   "source": [
    "def rising_temperature(weather: pd.DataFrame) -> pd.DataFrame:\n",
    "    # Sort the weather DataFrame by recordDate to ensure proper order\n",
    "    weather = weather.sort_values(by='recordDate')\n",
    "    \n",
    "    # Calculate the difference between consecutive recordDates\n",
    "    weather['date_diff'] = pd.to_datetime(weather['recordDate']).diff().dt.days\n",
    "    \n",
    "    # Use shift() to get the previous day's temperature\n",
    "    weather['prev_temp'] = weather['temperature'].shift(1)\n",
    "    \n",
    "    # Filter for rows where the temperature is greater than the previous day\n",
    "    # and the date difference is exactly 1 day\n",
    "    result = weather[(weather['temperature'] > weather['prev_temp']) & \n",
    "                     (weather['date_diff'] == 1)]\n",
    "    \n",
    "    # Return the 'id' of the rows that meet the condition\n",
    "    return result[['id']]\n",
    "\n",
    "# Call the function\n",
    "output = rising_temperature(pandas_Weather)\n",
    "\n",
    "output.head(100)"
   ]
  }
 ],
 "metadata": {
  "kernelspec": {
   "display_name": "Python 3 (ipykernel)",
   "language": "python",
   "name": "python3"
  },
  "language_info": {
   "codemirror_mode": {
    "name": "ipython",
    "version": 3
   },
   "file_extension": ".py",
   "mimetype": "text/x-python",
   "name": "python",
   "nbconvert_exporter": "python",
   "pygments_lexer": "ipython3",
   "version": "3.11.5"
  }
 },
 "nbformat": 4,
 "nbformat_minor": 5
}
